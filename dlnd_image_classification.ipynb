{
 "cells": [
  {
   "cell_type": "markdown",
   "metadata": {
    "collapsed": true
   },
   "source": [
    "# Image Classification\n",
    "In this project, you'll classify images from the [CIFAR-10 dataset](https://www.cs.toronto.edu/~kriz/cifar.html).  The dataset consists of airplanes, dogs, cats, and other objects. You'll preprocess the images, then train a convolutional neural network on all the samples. The images need to be normalized and the labels need to be one-hot encoded.  You'll get to apply what you learned and build a convolutional, max pooling, dropout, and fully connected layers.  At the end, you'll get to see your neural network's predictions on the sample images.\n",
    "## Get the Data\n",
    "Run the following cell to download the [CIFAR-10 dataset for python](https://www.cs.toronto.edu/~kriz/cifar-10-python.tar.gz)."
   ]
  },
  {
   "cell_type": "code",
   "execution_count": 1,
   "metadata": {},
   "outputs": [
    {
     "name": "stderr",
     "output_type": "stream",
     "text": [
      "CIFAR-10 Dataset: 171MB [01:53, 1.50MB/s]                              \n"
     ]
    },
    {
     "name": "stdout",
     "output_type": "stream",
     "text": [
      "All files found!\n"
     ]
    }
   ],
   "source": [
    "\"\"\"\n",
    "DON'T MODIFY ANYTHING IN THIS CELL THAT IS BELOW THIS LINE\n",
    "\"\"\"\n",
    "from urllib.request import urlretrieve\n",
    "from os.path import isfile, isdir\n",
    "from tqdm import tqdm\n",
    "import problem_unittests as tests\n",
    "import tarfile\n",
    "import matplotlib.pyplot as plt\n",
    "\n",
    "cifar10_dataset_folder_path = 'cifar-10-batches-py'\n",
    "\n",
    "# Use Floyd's cifar-10 dataset if present\n",
    "floyd_cifar10_location = '/input/cifar-10/python.tar.gz'\n",
    "if isfile(floyd_cifar10_location):\n",
    "    tar_gz_path = floyd_cifar10_location\n",
    "else:\n",
    "    tar_gz_path = 'cifar-10-python.tar.gz'\n",
    "\n",
    "class DLProgress(tqdm):\n",
    "    last_block = 0\n",
    "\n",
    "    def hook(self, block_num=1, block_size=1, total_size=None):\n",
    "        self.total = total_size\n",
    "        self.update((block_num - self.last_block) * block_size)\n",
    "        self.last_block = block_num\n",
    "\n",
    "if not isfile(tar_gz_path):\n",
    "    with DLProgress(unit='B', unit_scale=True, miniters=1, desc='CIFAR-10 Dataset') as pbar:\n",
    "        urlretrieve(\n",
    "            'https://www.cs.toronto.edu/~kriz/cifar-10-python.tar.gz',\n",
    "            tar_gz_path,\n",
    "            pbar.hook)\n",
    "\n",
    "if not isdir(cifar10_dataset_folder_path):\n",
    "    with tarfile.open(tar_gz_path) as tar:\n",
    "        tar.extractall()\n",
    "        tar.close()\n",
    "\n",
    "\n",
    "tests.test_folder_path(cifar10_dataset_folder_path)"
   ]
  },
  {
   "cell_type": "markdown",
   "metadata": {},
   "source": [
    "## Explore the Data\n",
    "The dataset is broken into batches to prevent your machine from running out of memory.  The CIFAR-10 dataset consists of 5 batches, named `data_batch_1`, `data_batch_2`, etc.. Each batch contains the labels and images that are one of the following:\n",
    "* airplane\n",
    "* automobile\n",
    "* bird\n",
    "* cat\n",
    "* deer\n",
    "* dog\n",
    "* frog\n",
    "* horse\n",
    "* ship\n",
    "* truck\n",
    "\n",
    "Understanding a dataset is part of making predictions on the data.  Play around with the code cell below by changing the `batch_id` and `sample_id`. The `batch_id` is the id for a batch (1-5). The `sample_id` is the id for a image and label pair in the batch.\n",
    "\n",
    "Ask yourself \"What are all possible labels?\", \"What is the range of values for the image data?\", \"Are the labels in order or random?\".  Answers to questions like these will help you preprocess the data and end up with better predictions."
   ]
  },
  {
   "cell_type": "code",
   "execution_count": 2,
   "metadata": {},
   "outputs": [
    {
     "name": "stdout",
     "output_type": "stream",
     "text": [
      "\n",
      "Stats of batch 1:\n",
      "Samples: 10000\n",
      "Label Counts: {0: 1005, 1: 974, 2: 1032, 3: 1016, 4: 999, 5: 937, 6: 1030, 7: 1001, 8: 1025, 9: 981}\n",
      "First 20 Labels: [6, 9, 9, 4, 1, 1, 2, 7, 8, 3, 4, 7, 7, 2, 9, 9, 9, 3, 2, 6]\n",
      "\n",
      "Example of Image 5:\n",
      "Image - Min Value: 0 Max Value: 252\n",
      "Image - Shape: (32, 32, 3)\n",
      "Label - Label Id: 1 Name: automobile\n"
     ]
    },
    {
     "data": {
      "image/png": "[encoded data removed]",
      "text/plain": [
       "<matplotlib.figure.Figure at 0x7f52bbef3ac8>"
      ]
     },
     "metadata": {
      "image/png": {
       "height": 250,
       "width": 253
      }
     },
     "output_type": "display_data"
    }
   ],
   "source": [
    "%matplotlib inline\n",
    "%config InlineBackend.figure_format = 'retina'\n",
    "\n",
    "import helper\n",
    "import numpy as np\n",
    "\n",
    "# Explore the dataset\n",
    "batch_id = 1\n",
    "sample_id = 5\n",
    "helper.display_stats(cifar10_dataset_folder_path, batch_id, sample_id)"
   ]
  },
  {
   "cell_type": "markdown",
   "metadata": {},
   "source": [
    "## Implement Preprocess Functions\n",
    "### Normalize\n",
    "In the cell below, implement the `normalize` function to take in image data, `x`, and return it as a normalized Numpy array. The values should be in the range of 0 to 1, inclusive.  The return object should be the same shape as `x`."
   ]
  },
  {
   "cell_type": "code",
   "execution_count": 3,
   "metadata": {},
   "outputs": [
    {
     "name": "stdout",
     "output_type": "stream",
     "text": [
      "Tests Passed\n"
     ]
    }
   ],
   "source": [
    "def normalize(x):\n",
    "    \"\"\"\n",
    "    Normalize a list of sample image data in the range of 0 to 1\n",
    "    : x: List of image data.  The image shape is (32, 32, 3)\n",
    "    : return: Numpy array of normalize data\n",
    "    \"\"\"\n",
    "    # TODO: Implement Function\n",
    "    return x / 255.0\n",
    "\n",
    "\n",
    "\"\"\"\n",
    "DON'T MODIFY ANYTHING IN THIS CELL THAT IS BELOW THIS LINE\n",
    "\"\"\"\n",
    "tests.test_normalize(normalize)"
   ]
  },
  {
   "cell_type": "markdown",
   "metadata": {},
   "source": [
    "### One-hot encode\n",
    "Just like the previous code cell, you'll be implementing a function for preprocessing.  This time, you'll implement the `one_hot_encode` function. The input, `x`, are a list of labels.  Implement the function to return the list of labels as One-Hot encoded Numpy array.  The possible values for labels are 0 to 9. The one-hot encoding function should return the same encoding for each value between each call to `one_hot_encode`.  Make sure to save the map of encodings outside the function.\n",
    "\n",
    "Hint: Don't reinvent the wheel."
   ]
  },
  {
   "cell_type": "code",
   "execution_count": 4,
   "metadata": {},
   "outputs": [
    {
     "name": "stdout",
     "output_type": "stream",
     "text": [
      "Tests Passed\n"
     ]
    }
   ],
   "source": [
    "def one_hot_encode(x):\n",
    "    \"\"\"\n",
    "    One hot encode a list of sample labels. Return a one-hot encoded vector for each label.\n",
    "    : x: List of sample Labels\n",
    "    : return: Numpy array of one-hot encoded labels\n",
    "    \"\"\"\n",
    "    # TODO: Implement Function\n",
    "    result = np.zeros((len(x), 10))\n",
    "    \n",
    "    for i in range(len(x)):\n",
    "        result[i][x[i]] = 1\n",
    "    \n",
    "    return result\n",
    "    \n",
    "    \n",
    "\n",
    "\"\"\"\n",
    "DON'T MODIFY ANYTHING IN THIS CELL THAT IS BELOW THIS LINE\n",
    "\"\"\"\n",
    "tests.test_one_hot_encode(one_hot_encode)"
   ]
  },
  {
   "cell_type": "markdown",
   "metadata": {},
   "source": [
    "### Randomize Data\n",
    "As you saw from exploring the data above, the order of the samples are randomized.  It doesn't hurt to randomize it again, but you don't need to for this dataset."
   ]
  },
  {
   "cell_type": "markdown",
   "metadata": {},
   "source": [
    "## Preprocess all the data and save it\n",
    "Running the code cell below will preprocess all the CIFAR-10 data and save it to file. The code below also uses 10% of the training data for validation."
   ]
  },
  {
   "cell_type": "code",
   "execution_count": 5,
   "metadata": {
    "collapsed": true
   },
   "outputs": [],
   "source": [
    "\"\"\"\n",
    "DON'T MODIFY ANYTHING IN THIS CELL\n",
    "\"\"\"\n",
    "# Preprocess Training, Validation, and Testing Data\n",
    "helper.preprocess_and_save_data(cifar10_dataset_folder_path, normalize, one_hot_encode)"
   ]
  },
  {
   "cell_type": "markdown",
   "metadata": {},
   "source": [
    "# Check Point\n",
    "This is your first checkpoint.  If you ever decide to come back to this notebook or have to restart the notebook, you can start from here.  The preprocessed data has been saved to disk."
   ]
  },
  {
   "cell_type": "code",
   "execution_count": 6,
   "metadata": {
    "collapsed": true
   },
   "outputs": [],
   "source": [
    "\"\"\"\n",
    "DON'T MODIFY ANYTHING IN THIS CELL\n",
    "\"\"\"\n",
    "import pickle\n",
    "import problem_unittests as tests\n",
    "import helper\n",
    "\n",
    "# Load the Preprocessed Validation data\n",
    "valid_features, valid_labels = pickle.load(open('preprocess_validation.p', mode='rb'))"
   ]
  },
  {
   "cell_type": "markdown",
   "metadata": {},
   "source": [
    "## Build the network\n",
    "For the neural network, you'll build each layer into a function.  Most of the code you've seen has been outside of functions. To test your code more thoroughly, we require that you put each layer in a function.  This allows us to give you better feedback and test for simple mistakes using our unittests before you submit your project.\n",
    "\n",
    ">**Note:** If you're finding it hard to dedicate enough time for this course each week, we've provided a small shortcut to this part of the project. In the next couple of problems, you'll have the option to use classes from the [TensorFlow Layers](https://www.tensorflow.org/api_docs/python/tf/layers) or [TensorFlow Layers (contrib)](https://www.tensorflow.org/api_guides/python/contrib.layers) packages to build each layer, except the layers you build in the \"Convolutional and Max Pooling Layer\" section.  TF Layers is similar to Keras's and TFLearn's abstraction to layers, so it's easy to pickup.\n",
    "\n",
    ">However, if you would like to get the most out of this course, try to solve all the problems _without_ using anything from the TF Layers packages. You **can** still use classes from other packages that happen to have the same name as ones you find in TF Layers! For example, instead of using the TF Layers version of the `conv2d` class, [tf.layers.conv2d](https://www.tensorflow.org/api_docs/python/tf/layers/conv2d), you would want to use the TF Neural Network version of `conv2d`, [tf.nn.conv2d](https://www.tensorflow.org/api_docs/python/tf/nn/conv2d). \n",
    "\n",
    "Let's begin!\n",
    "\n",
    "### Input\n",
    "The neural network needs to read the image data, one-hot encoded labels, and dropout keep probability. Implement the following functions\n",
    "* Implement `neural_net_image_input`\n",
    " * Return a [TF Placeholder](https://www.tensorflow.org/api_docs/python/tf/placeholder)\n",
    " * Set the shape using `image_shape` with batch size set to `None`.\n",
    " * Name the TensorFlow placeholder \"x\" using the TensorFlow `name` parameter in the [TF Placeholder](https://www.tensorflow.org/api_docs/python/tf/placeholder).\n",
    "* Implement `neural_net_label_input`\n",
    " * Return a [TF Placeholder](https://www.tensorflow.org/api_docs/python/tf/placeholder)\n",
    " * Set the shape using `n_classes` with batch size set to `None`.\n",
    " * Name the TensorFlow placeholder \"y\" using the TensorFlow `name` parameter in the [TF Placeholder](https://www.tensorflow.org/api_docs/python/tf/placeholder).\n",
    "* Implement `neural_net_keep_prob_input`\n",
    " * Return a [TF Placeholder](https://www.tensorflow.org/api_docs/python/tf/placeholder) for dropout keep probability.\n",
    " * Name the TensorFlow placeholder \"keep_prob\" using the TensorFlow `name` parameter in the [TF Placeholder](https://www.tensorflow.org/api_docs/python/tf/placeholder).\n",
    "\n",
    "These names will be used at the end of the project to load your saved model.\n",
    "\n",
    "Note: `None` for shapes in TensorFlow allow for a dynamic size."
   ]
  },
  {
   "cell_type": "code",
   "execution_count": 7,
   "metadata": {},
   "outputs": [
    {
     "name": "stdout",
     "output_type": "stream",
     "text": [
      "Image Input Tests Passed.\n",
      "Label Input Tests Passed.\n",
      "Keep Prob Tests Passed.\n"
     ]
    }
   ],
   "source": [
    "import tensorflow as tf\n",
    "\n",
    "def neural_net_image_input(image_shape):\n",
    "    \"\"\"\n",
    "    Return a Tensor for a bach of image input\n",
    "    : image_shape: Shape of the images\n",
    "    : return: Tensor for image input.\n",
    "    \"\"\"\n",
    "    # TODO: Implement Function\n",
    "    tensor_shape = [None]\n",
    "    tensor_shape.extend(image_shape)\n",
    "    return tf.placeholder(tf.float32, shape=tensor_shape, name='x')\n",
    "\n",
    "\n",
    "def neural_net_label_input(n_classes):\n",
    "    \"\"\"\n",
    "    Return a Tensor for a batch of label input\n",
    "    : n_classes: Number of classes\n",
    "    : return: Tensor for label input.\n",
    "    \"\"\"\n",
    "    # TODO: Implement Function\n",
    "    tensor_shape = [None, n_classes]\n",
    "    return tf.placeholder(tf.float32, shape=tensor_shape, name='y')\n",
    "\n",
    "\n",
    "def neural_net_keep_prob_input():\n",
    "    \"\"\"\n",
    "    Return a Tensor for keep probability\n",
    "    : return: Tensor for keep probability.\n",
    "    \"\"\"\n",
    "    # TODO: Implement Function\n",
    "    return tf.placeholder(tf.float32, name='keep_prob')\n",
    "\n",
    "\n",
    "\"\"\"\n",
    "DON'T MODIFY ANYTHING IN THIS CELL THAT IS BELOW THIS LINE\n",
    "\"\"\"\n",
    "tf.reset_default_graph()\n",
    "tests.test_nn_image_inputs(neural_net_image_input)\n",
    "tests.test_nn_label_inputs(neural_net_label_input)\n",
    "tests.test_nn_keep_prob_inputs(neural_net_keep_prob_input)"
   ]
  },
  {
   "cell_type": "markdown",
   "metadata": {},
   "source": [
    "### Convolution and Max Pooling Layer\n",
    "Convolution layers have a lot of success with images. For this code cell, you should implement the function `conv2d_maxpool` to apply convolution then max pooling:\n",
    "* Create the weight and bias using `conv_ksize`, `conv_num_outputs` and the shape of `x_tensor`.\n",
    "* Apply a convolution to `x_tensor` using weight and `conv_strides`.\n",
    " * We recommend you use same padding, but you're welcome to use any padding.\n",
    "* Add bias\n",
    "* Add a nonlinear activation to the convolution.\n",
    "* Apply Max Pooling using `pool_ksize` and `pool_strides`.\n",
    " * We recommend you use same padding, but you're welcome to use any padding.\n",
    "\n",
    "**Note:** You **can't** use [TensorFlow Layers](https://www.tensorflow.org/api_docs/python/tf/layers) or [TensorFlow Layers (contrib)](https://www.tensorflow.org/api_guides/python/contrib.layers) for **this** layer, but you can still use TensorFlow's [Neural Network](https://www.tensorflow.org/api_docs/python/tf/nn) package. You may still use the shortcut option for all the **other** layers."
   ]
  },
  {
   "cell_type": "code",
   "execution_count": 8,
   "metadata": {},
   "outputs": [
    {
     "name": "stdout",
     "output_type": "stream",
     "text": [
      "Tests Passed\n"
     ]
    }
   ],
   "source": [
    "def conv2d_maxpool(x_tensor, conv_num_outputs, conv_ksize, conv_strides, pool_ksize, pool_strides):\n",
    "    \"\"\"\n",
    "    Apply convolution then max pooling to x_tensor\n",
    "    :param x_tensor: TensorFlow Tensor\n",
    "    :param conv_num_outputs: Number of outputs for the convolutional layer\n",
    "    :param conv_ksize: kernal size 2-D Tuple for the convolutional layer\n",
    "    :param conv_strides: Stride 2-D Tuple for convolution\n",
    "    :param pool_ksize: kernal size 2-D Tuple for pool\n",
    "    :param pool_strides: Stride 2-D Tuple for pool\n",
    "    : return: A tensor that represents convolution and max pooling of x_tensor\n",
    "    \"\"\"\n",
    "    \n",
    "    # Implement convolutional layer.\n",
    "    conv_depth = x_tensor.get_shape().as_list()[-1]\n",
    "    \n",
    "    # Set up weight.\n",
    "    conv_weight_shape = (conv_ksize[0], conv_ksize[1], conv_depth , conv_num_outputs)\n",
    "    conv_weight = tf.Variable(tf.truncated_normal(conv_weight_shape, mean=0.0, stddev=0.1, dtype=tf.float32))\n",
    "    \n",
    "    # Set up bias.\n",
    "    conv_bias = tf.Variable(tf.zeros(conv_num_outputs))\n",
    "    \n",
    "    # Set up convolutional layer.\n",
    "    conv_stride = [1, conv_strides[0], conv_strides[1], 1]\n",
    "    conv_layer = tf.nn.conv2d(x_tensor, conv_weight, conv_stride, padding='SAME') + conv_bias\n",
    "    \n",
    "    # Activation function.\n",
    "    conv_layer = tf.nn.relu(conv_layer)\n",
    "    \n",
    "    # Implement max pooling layer.\n",
    "    pooling_layer = tf.nn.max_pool(\n",
    "        conv_layer,\n",
    "        ksize=[1, pool_ksize[0], pool_ksize[1], 1],\n",
    "        strides=[1, pool_strides[0], pool_strides[1], 1],\n",
    "        padding='SAME'\n",
    "    )\n",
    "    \n",
    "    return pooling_layer\n",
    "    \n",
    "\n",
    "\"\"\"\n",
    "DON'T MODIFY ANYTHING IN THIS CELL THAT IS BELOW THIS LINE\n",
    "\"\"\"\n",
    "tests.test_con_pool(conv2d_maxpool)"
   ]
  },
  {
   "cell_type": "markdown",
   "metadata": {},
   "source": [
    "### Flatten Layer\n",
    "Implement the `flatten` function to change the dimension of `x_tensor` from a 4-D tensor to a 2-D tensor.  The output should be the shape (*Batch Size*, *Flattened Image Size*). Shortcut option: you can use classes from the [TensorFlow Layers](https://www.tensorflow.org/api_docs/python/tf/layers) or [TensorFlow Layers (contrib)](https://www.tensorflow.org/api_guides/python/contrib.layers) packages for this layer. For more of a challenge, only use other TensorFlow packages."
   ]
  },
  {
   "cell_type": "code",
   "execution_count": 9,
   "metadata": {},
   "outputs": [
    {
     "name": "stdout",
     "output_type": "stream",
     "text": [
      "Tests Passed\n"
     ]
    }
   ],
   "source": [
    "from functools import reduce\n",
    "\n",
    "def flatten(x_tensor):\n",
    "    \"\"\"\n",
    "    Flatten x_tensor to (Batch Size, Flattened Image Size)\n",
    "    : x_tensor: A tensor of size (Batch Size, ...), where ... are the image dimensions.\n",
    "    : return: A tensor of size (Batch Size, Flattened Image Size).\n",
    "    \"\"\"\n",
    "    image_dimension = reduce(lambda a,b: a*b,x_tensor.get_shape().as_list()[1:])\n",
    "    \n",
    "    return tf.reshape(x_tensor, [-1, image_dimension])\n",
    "\n",
    "\n",
    "\"\"\"\n",
    "DON'T MODIFY ANYTHING IN THIS CELL THAT IS BELOW THIS LINE\n",
    "\"\"\"\n",
    "tests.test_flatten(flatten)"
   ]
  },
  {
   "cell_type": "markdown",
   "metadata": {},
   "source": [
    "### Fully-Connected Layer\n",
    "Implement the `fully_conn` function to apply a fully connected layer to `x_tensor` with the shape (*Batch Size*, *num_outputs*). Shortcut option: you can use classes from the [TensorFlow Layers](https://www.tensorflow.org/api_docs/python/tf/layers) or [TensorFlow Layers (contrib)](https://www.tensorflow.org/api_guides/python/contrib.layers) packages for this layer. For more of a challenge, only use other TensorFlow packages."
   ]
  },
  {
   "cell_type": "code",
   "execution_count": 10,
   "metadata": {},
   "outputs": [
    {
     "name": "stdout",
     "output_type": "stream",
     "text": [
      "Tests Passed\n"
     ]
    }
   ],
   "source": [
    "def fully_conn(x_tensor, num_outputs):\n",
    "    \"\"\"\n",
    "    Apply a fully connected layer to x_tensor using weight and bias\n",
    "    : x_tensor: A 2-D tensor where the first dimension is batch size.\n",
    "    : num_outputs: The number of output that the new tensor should be.\n",
    "    : return: A 2-D tensor where the second dimension is num_outputs.\n",
    "    \"\"\"\n",
    "    # TODO: Implement Function\n",
    "    weight_shape = x_tensor.get_shape().as_list()[1:] + [num_outputs]\n",
    "    weight = tf.Variable(tf.truncated_normal(weight_shape, mean=0.0, stddev=0.1, dtype=tf.float32))\n",
    "    bias = tf.Variable(tf.zeros(num_outputs))    \n",
    "    fully_connected = tf.nn.relu(tf.matmul(x_tensor, weight) + bias)\n",
    "    return fully_connected\n",
    "\n",
    "\"\"\"\n",
    "DON'T MODIFY ANYTHING IN THIS CELL THAT IS BELOW THIS LINE\n",
    "\"\"\"\n",
    "tests.test_fully_conn(fully_conn)"
   ]
  },
  {
   "cell_type": "markdown",
   "metadata": {},
   "source": [
    "### Output Layer\n",
    "Implement the `output` function to apply a fully connected layer to `x_tensor` with the shape (*Batch Size*, *num_outputs*). Shortcut option: you can use classes from the [TensorFlow Layers](https://www.tensorflow.org/api_docs/python/tf/layers) or [TensorFlow Layers (contrib)](https://www.tensorflow.org/api_guides/python/contrib.layers) packages for this layer. For more of a challenge, only use other TensorFlow packages.\n",
    "\n",
    "**Note:** Activation, softmax, or cross entropy should **not** be applied to this."
   ]
  },
  {
   "cell_type": "code",
   "execution_count": 11,
   "metadata": {},
   "outputs": [
    {
     "name": "stdout",
     "output_type": "stream",
     "text": [
      "Tests Passed\n"
     ]
    }
   ],
   "source": [
    "def output(x_tensor, num_outputs):\n",
    "    \"\"\"\n",
    "    Apply a output layer to x_tensor using weight and bias\n",
    "    : x_tensor: A 2-D tensor where the first dimension is batch size.\n",
    "    \n",
    "    \n",
    "    \n",
    "    : num_outputs: The number of output that the new tensor should be.\n",
    "    : return: A 2-D tensor where the second dimension is num_outputs.\n",
    "    \"\"\"\n",
    "    \n",
    "    # Set up weight.\n",
    "    out_weight_shape = x_tensor.get_shape().as_list()[1:] + [num_outputs]\n",
    "    out_weight = tf.Variable(tf.truncated_normal(out_weight_shape, mean=0.0, stddev=0.1, dtype=tf.float32))\n",
    "    \n",
    "    # Set up bias.\n",
    "    out_bias = tf.Variable(tf.zeros(num_outputs))    \n",
    "    \n",
    "    return tf.matmul(x_tensor, out_weight) + out_bias\n",
    "\n",
    "\n",
    "\"\"\"\n",
    "DON'T MODIFY ANYTHING IN THIS CELL THAT IS BELOW THIS LINE\n",
    "\"\"\"\n",
    "tests.test_output(output)"
   ]
  },
  {
   "cell_type": "markdown",
   "metadata": {},
   "source": [
    "### Create Convolutional Model\n",
    "Implement the function `conv_net` to create a convolutional neural network model. The function takes in a batch of images, `x`, and outputs logits.  Use the layers you created above to create this model:\n",
    "\n",
    "* Apply 1, 2, or 3 Convolution and Max Pool layers\n",
    "* Apply a Flatten Layer\n",
    "* Apply 1, 2, or 3 Fully Connected Layers\n",
    "* Apply an Output Layer\n",
    "* Return the output\n",
    "* Apply [TensorFlow's Dropout](https://www.tensorflow.org/api_docs/python/tf/nn/dropout) to one or more layers in the model using `keep_prob`. "
   ]
  },
  {
   "cell_type": "code",
   "execution_count": 100,
   "metadata": {},
   "outputs": [
    {
     "name": "stdout",
     "output_type": "stream",
     "text": [
      "Neural Network Built!\n"
     ]
    }
   ],
   "source": [
    "def conv_net(x, keep_prob):\n",
    "    \"\"\"\n",
    "    Create a convolutional neural network model\n",
    "    : x: Placeholder tensor that holds image data.\n",
    "    : keep_prob: Placeholder tensor that hold dropout keep probability.\n",
    "    : return: Tensor that represents logits\n",
    "    \"\"\"\n",
    "    # TODO: Apply 1, 2, or 3 Convolution and Max Pool layers\n",
    "    #    Play around with different number of outputs, kernel size and stride\n",
    "    # Function Definition from Above:\n",
    "    #    conv2d_maxpool(x_tensor, conv_num_outputs, conv_ksize, conv_strides, pool_ksize, pool_strides)\n",
    "    \n",
    "    # A side comment: according to http://cs231n.github.io/convolutional-networks/, convolution kernal layer\n",
    "    # size should rarely be larger than 3 x 3. Why is the course material suggesting things like 7 x 7?\n",
    "    \n",
    "    conv = conv2d_maxpool(x, 16, [3,3], [1,1], [2,2], [1,1])\n",
    "    conv = conv2d_maxpool(conv, 32, [3,3], [1,1], [2,2], [1,1])\n",
    "    conv = conv2d_maxpool(conv, 64, [1,1], [1,1], [2,2], [1,1])\n",
    "    \n",
    "    # TODO: Apply a Flatten Layer\n",
    "    # Function Definition from Above:\n",
    "    #   flatten(x_tensor)\n",
    "    \n",
    "    flat = flatten(conv)\n",
    "\n",
    "    # TODO: Apply 1, 2, or 3 Fully Connected Layers\n",
    "    #    Play around with different number of outputs\n",
    "    # Function Definition from Above:\n",
    "    #   fully_conn(x_tensor, num_outputs)\n",
    "    \n",
    "    fully_connected = fully_conn(flat, 96)\n",
    "    fully_connected = fully_conn(fully_connected, 64)\n",
    "    \n",
    "    dropout = tf.nn.dropout(fully_connected, keep_prob)\n",
    "    \n",
    "    # TODO: Apply an Output Layer\n",
    "    #    Set this to the number of classes\n",
    "    # Function Definition from Above:\n",
    "    #   output(x_tensor, num_outputs)\n",
    "    \n",
    "    n_label = 10\n",
    "    out = output(dropout, n_label)\n",
    "    \n",
    "    # TODO: return output\n",
    "    return out\n",
    "\n",
    "\n",
    "\"\"\"\n",
    "DON'T MODIFY ANYTHING IN THIS CELL THAT IS BELOW THIS LINE\n",
    "\"\"\"\n",
    "\n",
    "##############################\n",
    "## Build the Neural Network ##\n",
    "##############################\n",
    "\n",
    "# Remove previous weights, bias, inputs, etc..\n",
    "tf.reset_default_graph()\n",
    "\n",
    "# Inputs\n",
    "x = neural_net_image_input((32, 32, 3))\n",
    "y = neural_net_label_input(10)\n",
    "keep_prob = neural_net_keep_prob_input()\n",
    "\n",
    "# Model\n",
    "logits = conv_net(x, keep_prob)\n",
    "\n",
    "# Name logits Tensor, so that is can be loaded from disk after training\n",
    "logits = tf.identity(logits, name='logits')\n",
    "\n",
    "# Loss and Optimizer\n",
    "cost = tf.reduce_mean(tf.nn.softmax_cross_entropy_with_logits(logits=logits, labels=y))\n",
    "optimizer = tf.train.AdamOptimizer(learning_rate=0.001).minimize(cost)\n",
    "\n",
    "# Accuracy\n",
    "correct_pred = tf.equal(tf.argmax(logits, 1), tf.argmax(y, 1))\n",
    "accuracy = tf.reduce_mean(tf.cast(correct_pred, tf.float32), name='accuracy')\n",
    "\n",
    "tests.test_conv_net(conv_net)"
   ]
  },
  {
   "cell_type": "markdown",
   "metadata": {},
   "source": [
    "## Train the Neural Network\n",
    "### Single Optimization\n",
    "Implement the function `train_neural_network` to do a single optimization.  The optimization should use `optimizer` to optimize in `session` with a `feed_dict` of the following:\n",
    "* `x` for image input\n",
    "* `y` for labels\n",
    "* `keep_prob` for keep probability for dropout\n",
    "\n",
    "This function will be called for each batch, so `tf.global_variables_initializer()` has already been called.\n",
    "\n",
    "Note: Nothing needs to be returned. This function is only optimizing the neural network."
   ]
  },
  {
   "cell_type": "code",
   "execution_count": 96,
   "metadata": {},
   "outputs": [
    {
     "name": "stdout",
     "output_type": "stream",
     "text": [
      "Tests Passed\n"
     ]
    }
   ],
   "source": [
    "def train_neural_network(session, optimizer, keep_probability, feature_batch, label_batch):\n",
    "    \"\"\"\n",
    "    Optimize the session on a batch of images and labels\n",
    "    : session: Current TensorFlow session\n",
    "    : optimizer: TensorFlow optimizer function\n",
    "    : keep_probability: keep probability\n",
    "    : feature_batch: Batch of Numpy image data\n",
    "    : label_batch: Batch of Numpy label data\n",
    "    \"\"\"\n",
    "\n",
    "    session.run(optimizer,\n",
    "        feed_dict = {\n",
    "            x: feature_batch,\n",
    "            y: label_batch,\n",
    "            keep_prob: keep_probability\n",
    "        }\n",
    "    )\n",
    "    \n",
    "\n",
    "\"\"\"\n",
    "DON'T MODIFY ANYTHING IN THIS CELL THAT IS BELOW THIS LINE\n",
    "\"\"\"\n",
    "tests.test_train_nn(train_neural_network)"
   ]
  },
  {
   "cell_type": "markdown",
   "metadata": {},
   "source": [
    "### Show Stats\n",
    "Implement the function `print_stats` to print loss and validation accuracy.  Use the global variables `valid_features` and `valid_labels` to calculate validation accuracy.  Use a keep probability of `1.0` to calculate the loss and validation accuracy."
   ]
  },
  {
   "cell_type": "code",
   "execution_count": 97,
   "metadata": {
    "collapsed": true
   },
   "outputs": [],
   "source": [
    "def print_stats(session, feature_batch, label_batch, cost, accuracy):\n",
    "        \"\"\"\n",
    "        Print information about loss and validation accuracy\n",
    "        : session: Current TensorFlow session\n",
    "        : feature_batch: Batch of Numpy image data\n",
    "        : label_batch: Batch of Numpy label data\n",
    "        : cost: TensorFlow cost function\n",
    "        : accuracy: TensorFlow accuracy function\n",
    "        \"\"\"\n",
    "\n",
    "        training_loss = sess.run(cost, feed_dict={\n",
    "            x: feature_batch,\n",
    "            y: label_batch,\n",
    "            keep_prob: 1.})\n",
    "        \n",
    "        training_accuracy = sess.run(accuracy, feed_dict={\n",
    "            x: feature_batch,\n",
    "            y: label_batch,\n",
    "            keep_prob: 1.})\n",
    "        \n",
    "        print('training loss: ', training_loss)\n",
    "        print('training accuracy ', training_accuracy)\n",
    "        \n",
    "        validation_loss = sess.run(cost, feed_dict={\n",
    "            x: valid_features,\n",
    "            y: valid_labels,\n",
    "            keep_prob: 1.})\n",
    "        \n",
    "        validation_accuracy = sess.run(accuracy, feed_dict={\n",
    "            x: valid_features,\n",
    "            y: valid_labels,\n",
    "            keep_prob: 1.})\n",
    "        \n",
    "        print('validation loss: ', validation_loss)\n",
    "        print('validation accuracy', validation_accuracy)\n",
    "        \n",
    "        return training_loss, validation_loss\n",
    "        "
   ]
  },
  {
   "cell_type": "markdown",
   "metadata": {},
   "source": [
    "### Hyperparameters\n",
    "Tune the following parameters:\n",
    "* Set `epochs` to the number of iterations until the network stops learning or start overfitting\n",
    "* Set `batch_size` to the highest number that your machine has memory for.  Most people set them to common sizes of memory:\n",
    " * 64\n",
    " * 128\n",
    " * 256\n",
    " * ...\n",
    "* Set `keep_probability` to the probability of keeping a node using dropout"
   ]
  },
  {
   "cell_type": "code",
   "execution_count": 98,
   "metadata": {
    "collapsed": true
   },
   "outputs": [],
   "source": [
    "# TODO: Tune Parameters\n",
    "epochs = 14\n",
    "batch_size = 512\n",
    "keep_probability = 0.8\n",
    "\n",
    "\n"
   ]
  },
  {
   "cell_type": "markdown",
   "metadata": {},
   "source": [
    "### Train on a Single CIFAR-10 Batch\n",
    "Instead of training the neural network on all the CIFAR-10 batches of data, let's use a single batch. This should save time while you iterate on the model to get a better accuracy.  Once the final validation accuracy is 50% or greater, run the model on all the data in the next section."
   ]
  },
  {
   "cell_type": "code",
   "execution_count": 99,
   "metadata": {
    "scrolled": false
   },
   "outputs": [
    {
     "name": "stdout",
     "output_type": "stream",
     "text": [
      "Checking the Training on a Single Batch...\n",
      "Epoch  1, CIFAR-10 Batch 1:  training loss:  2.05133\n",
      "training accuracy  0.263514\n",
      "validation loss:  2.02903\n",
      "validation accuracy 0.2696\n",
      "Epoch  2, CIFAR-10 Batch 1:  training loss:  1.85718\n",
      "training accuracy  0.331081\n",
      "validation loss:  1.78353\n",
      "validation accuracy 0.3576\n",
      "Epoch  3, CIFAR-10 Batch 1:  training loss:  1.67808\n",
      "training accuracy  0.435811\n",
      "validation loss:  1.65223\n",
      "validation accuracy 0.4166\n",
      "Epoch  4, CIFAR-10 Batch 1:  training loss:  1.57067\n",
      "training accuracy  0.486486\n",
      "validation loss:  1.59833\n",
      "validation accuracy 0.4296\n",
      "Epoch  5, CIFAR-10 Batch 1:  training loss:  1.45649\n",
      "training accuracy  0.489865\n",
      "validation loss:  1.48579\n",
      "validation accuracy 0.4612\n",
      "Epoch  6, CIFAR-10 Batch 1:  training loss:  1.35018\n",
      "training accuracy  0.543919\n",
      "validation loss:  1.43606\n",
      "validation accuracy 0.48\n",
      "Epoch  7, CIFAR-10 Batch 1:  training loss:  1.24983\n",
      "training accuracy  0.577703\n",
      "validation loss:  1.37126\n",
      "validation accuracy 0.5048\n",
      "Epoch  8, CIFAR-10 Batch 1:  training loss:  1.20631\n",
      "training accuracy  0.587838\n",
      "validation loss:  1.36318\n",
      "validation accuracy 0.513\n",
      "Epoch  9, CIFAR-10 Batch 1:  training loss:  1.11024\n",
      "training accuracy  0.628378\n",
      "validation loss:  1.31123\n",
      "validation accuracy 0.5312\n",
      "Epoch 10, CIFAR-10 Batch 1:  training loss:  1.02869\n",
      "training accuracy  0.641892\n",
      "validation loss:  1.29752\n",
      "validation accuracy 0.535\n",
      "Epoch 11, CIFAR-10 Batch 1:  training loss:  0.945125\n",
      "training accuracy  0.668919\n",
      "validation loss:  1.27053\n",
      "validation accuracy 0.5428\n",
      "Epoch 12, CIFAR-10 Batch 1:  training loss:  0.87641\n",
      "training accuracy  0.706081\n",
      "validation loss:  1.26143\n",
      "validation accuracy 0.55\n",
      "Epoch 13, CIFAR-10 Batch 1:  training loss:  0.837841\n",
      "training accuracy  0.726351\n",
      "validation loss:  1.26479\n",
      "validation accuracy 0.547\n",
      "Epoch 14, CIFAR-10 Batch 1:  training loss:  0.772709\n",
      "training accuracy  0.743243\n",
      "validation loss:  1.2531\n",
      "validation accuracy 0.5494\n"
     ]
    },
    {
     "data": {
      "image/png": "[encoded data removed]",
      "text/plain": [
       "<matplotlib.figure.Figure at 0x7f52a9ce72e8>"
      ]
     },
     "metadata": {
      "image/png": {
       "height": 250,
       "width": 373
      }
     },
     "output_type": "display_data"
    }
   ],
   "source": [
    "\"\"\"\n",
    "DON'T MODIFY ANYTHING IN THIS CELL\n",
    "\"\"\"\n",
    "print('Checking the Training on a Single Batch...')\n",
    "\n",
    "t_loss = []\n",
    "v_loss = []\n",
    "\n",
    "with tf.Session() as sess:\n",
    "    # Initializing the variables\n",
    "    sess.run(tf.global_variables_initializer())\n",
    "    \n",
    "    # Training cycle\n",
    "    for epoch in range(epochs):\n",
    "        batch_i = 1\n",
    "        for batch_features, batch_labels in helper.load_preprocess_training_batch(batch_i, batch_size):\n",
    "            train_neural_network(sess, optimizer, keep_probability, batch_features, batch_labels)\n",
    "        print('Epoch {:>2}, CIFAR-10 Batch {}:  '.format(epoch + 1, batch_i), end='')\n",
    "        \n",
    "        training_loss, validation_loss = print_stats(sess, batch_features, batch_labels, cost, accuracy)\n",
    "        t_loss.append(training_loss)\n",
    "        v_loss.append(validation_loss)\n",
    "\n",
    "plt.plot(range(int(epochs)), t_loss)\n",
    "plt.plot(range(int(epochs)), v_loss)\n",
    "plt.legend(['training_loss', 'validation_loss'])\n",
    "plt.show()"
   ]
  },
  {
   "cell_type": "markdown",
   "metadata": {},
   "source": [
    "### Fully Train the Model\n",
    "Now that you got a good accuracy with a single CIFAR-10 batch, try it with all five batches."
   ]
  },
  {
   "cell_type": "code",
   "execution_count": 101,
   "metadata": {},
   "outputs": [
    {
     "name": "stdout",
     "output_type": "stream",
     "text": [
      "Training...\n",
      "Epoch  1, CIFAR-10 Batch 1:  training loss:  2.03994\n",
      "training accuracy  0.27027\n",
      "validation loss:  1.99551\n",
      "validation accuracy 0.2858\n",
      "Epoch  1, CIFAR-10 Batch 2:  training loss:  1.72263\n",
      "training accuracy  0.405405\n",
      "validation loss:  1.77839\n",
      "validation accuracy 0.356\n",
      "Epoch  1, CIFAR-10 Batch 3:  training loss:  1.5185\n",
      "training accuracy  0.476351\n",
      "validation loss:  1.65167\n",
      "validation accuracy 0.411\n",
      "Epoch  1, CIFAR-10 Batch 4:  training loss:  1.51271\n",
      "training accuracy  0.452703\n",
      "validation loss:  1.55844\n",
      "validation accuracy 0.436\n",
      "Epoch  1, CIFAR-10 Batch 5:  training loss:  1.48163\n",
      "training accuracy  0.452703\n",
      "validation loss:  1.49004\n",
      "validation accuracy 0.462\n",
      "Epoch  2, CIFAR-10 Batch 1:  training loss:  1.52169\n",
      "training accuracy  0.466216\n",
      "validation loss:  1.4287\n",
      "validation accuracy 0.491\n",
      "Epoch  2, CIFAR-10 Batch 2:  training loss:  1.30253\n",
      "training accuracy  0.560811\n",
      "validation loss:  1.39595\n",
      "validation accuracy 0.5042\n",
      "Epoch  2, CIFAR-10 Batch 3:  training loss:  1.20405\n",
      "training accuracy  0.577703\n",
      "validation loss:  1.37325\n",
      "validation accuracy 0.5026\n",
      "Epoch  2, CIFAR-10 Batch 4:  training loss:  1.19859\n",
      "training accuracy  0.591216\n",
      "validation loss:  1.31354\n",
      "validation accuracy 0.5338\n",
      "Epoch  2, CIFAR-10 Batch 5:  training loss:  1.21665\n",
      "training accuracy  0.574324\n",
      "validation loss:  1.31283\n",
      "validation accuracy 0.529\n",
      "Epoch  3, CIFAR-10 Batch 1:  training loss:  1.31812\n",
      "training accuracy  0.537162\n",
      "validation loss:  1.2539\n",
      "validation accuracy 0.5492\n",
      "Epoch  3, CIFAR-10 Batch 2:  training loss:  1.1714\n",
      "training accuracy  0.594595\n",
      "validation loss:  1.29274\n",
      "validation accuracy 0.5382\n",
      "Epoch  3, CIFAR-10 Batch 3:  training loss:  1.05464\n",
      "training accuracy  0.60473\n",
      "validation loss:  1.22299\n",
      "validation accuracy 0.561\n",
      "Epoch  3, CIFAR-10 Batch 4:  training loss:  1.04393\n",
      "training accuracy  0.614865\n",
      "validation loss:  1.20705\n",
      "validation accuracy 0.5666\n",
      "Epoch  3, CIFAR-10 Batch 5:  training loss:  1.04873\n",
      "training accuracy  0.625\n",
      "validation loss:  1.17712\n",
      "validation accuracy 0.5772\n",
      "Epoch  4, CIFAR-10 Batch 1:  training loss:  1.17566\n",
      "training accuracy  0.574324\n",
      "validation loss:  1.18355\n",
      "validation accuracy 0.5812\n",
      "Epoch  4, CIFAR-10 Batch 2:  training loss:  1.05149\n",
      "training accuracy  0.641892\n",
      "validation loss:  1.20531\n",
      "validation accuracy 0.5716\n",
      "Epoch  4, CIFAR-10 Batch 3:  training loss:  0.935931\n",
      "training accuracy  0.665541\n",
      "validation loss:  1.14612\n",
      "validation accuracy 0.586\n",
      "Epoch  4, CIFAR-10 Batch 4:  training loss:  0.950623\n",
      "training accuracy  0.662162\n",
      "validation loss:  1.14805\n",
      "validation accuracy 0.591\n",
      "Epoch  4, CIFAR-10 Batch 5:  training loss:  0.937644\n",
      "training accuracy  0.672297\n",
      "validation loss:  1.1107\n",
      "validation accuracy 0.6076\n",
      "Epoch  5, CIFAR-10 Batch 1:  training loss:  1.06293\n",
      "training accuracy  0.635135\n",
      "validation loss:  1.10585\n",
      "validation accuracy 0.6074\n",
      "Epoch  5, CIFAR-10 Batch 2:  training loss:  0.992092\n",
      "training accuracy  0.64527\n",
      "validation loss:  1.14888\n",
      "validation accuracy 0.5962\n",
      "Epoch  5, CIFAR-10 Batch 3:  training loss:  0.847394\n",
      "training accuracy  0.719595\n",
      "validation loss:  1.0875\n",
      "validation accuracy 0.6132\n",
      "Epoch  5, CIFAR-10 Batch 4:  training loss:  0.876289\n",
      "training accuracy  0.699324\n",
      "validation loss:  1.08404\n",
      "validation accuracy 0.6154\n",
      "Epoch  5, CIFAR-10 Batch 5:  training loss:  0.847438\n",
      "training accuracy  0.712838\n",
      "validation loss:  1.05471\n",
      "validation accuracy 0.623\n",
      "Epoch  6, CIFAR-10 Batch 1:  training loss:  0.97274\n",
      "training accuracy  0.655405\n",
      "validation loss:  1.07991\n",
      "validation accuracy 0.6234\n",
      "Epoch  6, CIFAR-10 Batch 2:  training loss:  0.862031\n",
      "training accuracy  0.70946\n",
      "validation loss:  1.04942\n",
      "validation accuracy 0.6312\n",
      "Epoch  6, CIFAR-10 Batch 3:  training loss:  0.851262\n",
      "training accuracy  0.722973\n",
      "validation loss:  1.10075\n",
      "validation accuracy 0.6042\n",
      "Epoch  6, CIFAR-10 Batch 4:  training loss:  0.801419\n",
      "training accuracy  0.719595\n",
      "validation loss:  1.03651\n",
      "validation accuracy 0.634\n",
      "Epoch  6, CIFAR-10 Batch 5:  training loss:  0.771464\n",
      "training accuracy  0.733108\n",
      "validation loss:  1.02218\n",
      "validation accuracy 0.641\n",
      "Epoch  7, CIFAR-10 Batch 1:  training loss:  0.896481\n",
      "training accuracy  0.695946\n",
      "validation loss:  1.04189\n",
      "validation accuracy 0.6398\n",
      "Epoch  7, CIFAR-10 Batch 2:  training loss:  0.824834\n",
      "training accuracy  0.712838\n",
      "validation loss:  1.0379\n",
      "validation accuracy 0.6328\n",
      "Epoch  7, CIFAR-10 Batch 3:  training loss:  0.753658\n",
      "training accuracy  0.760135\n",
      "validation loss:  1.05888\n",
      "validation accuracy 0.6216\n",
      "Epoch  7, CIFAR-10 Batch 4:  training loss:  0.743836\n",
      "training accuracy  0.743243\n",
      "validation loss:  1.01243\n",
      "validation accuracy 0.643\n",
      "Epoch  7, CIFAR-10 Batch 5:  training loss:  0.70859\n",
      "training accuracy  0.746622\n",
      "validation loss:  0.999873\n",
      "validation accuracy 0.6502\n",
      "Epoch  8, CIFAR-10 Batch 1:  training loss:  0.826047\n",
      "training accuracy  0.736486\n",
      "validation loss:  0.996698\n",
      "validation accuracy 0.6536\n",
      "Epoch  8, CIFAR-10 Batch 2:  training loss:  0.759742\n",
      "training accuracy  0.726351\n",
      "validation loss:  1.0031\n",
      "validation accuracy 0.6498\n",
      "Epoch  8, CIFAR-10 Batch 3:  training loss:  0.673853\n",
      "training accuracy  0.75\n",
      "validation loss:  0.994733\n",
      "validation accuracy 0.644\n",
      "Epoch  8, CIFAR-10 Batch 4:  training loss:  0.688729\n",
      "training accuracy  0.760135\n",
      "validation loss:  0.999152\n",
      "validation accuracy 0.6546\n",
      "Epoch  8, CIFAR-10 Batch 5:  training loss:  0.662686\n",
      "training accuracy  0.780405\n",
      "validation loss:  0.99966\n",
      "validation accuracy 0.6516\n",
      "Epoch  9, CIFAR-10 Batch 1:  training loss:  0.751744\n",
      "training accuracy  0.756757\n",
      "validation loss:  0.975747\n",
      "validation accuracy 0.6616\n",
      "Epoch  9, CIFAR-10 Batch 2:  training loss:  0.728287\n",
      "training accuracy  0.753378\n",
      "validation loss:  1.02568\n",
      "validation accuracy 0.6342\n",
      "Epoch  9, CIFAR-10 Batch 3:  training loss:  0.632429\n",
      "training accuracy  0.753378\n",
      "validation loss:  0.972201\n",
      "validation accuracy 0.6544\n",
      "Epoch  9, CIFAR-10 Batch 4:  training loss:  0.657044\n",
      "training accuracy  0.753378\n",
      "validation loss:  1.0008\n",
      "validation accuracy 0.6514\n",
      "Epoch  9, CIFAR-10 Batch 5:  training loss:  0.602726\n",
      "training accuracy  0.797297\n",
      "validation loss:  0.993548\n",
      "validation accuracy 0.6584\n",
      "Epoch 10, CIFAR-10 Batch 1:  training loss:  0.692582\n",
      "training accuracy  0.773649\n",
      "validation loss:  0.972118\n",
      "validation accuracy 0.6638\n",
      "Epoch 10, CIFAR-10 Batch 2:  training loss:  0.647352\n",
      "training accuracy  0.797297\n",
      "validation loss:  0.999415\n",
      "validation accuracy 0.6526\n",
      "Epoch 10, CIFAR-10 Batch 3:  training loss:  0.609349\n",
      "training accuracy  0.793919\n",
      "validation loss:  0.983692\n",
      "validation accuracy 0.6572\n",
      "Epoch 10, CIFAR-10 Batch 4:  training loss:  0.598975\n",
      "training accuracy  0.787162\n",
      "validation loss:  0.982731\n",
      "validation accuracy 0.6586\n",
      "Epoch 10, CIFAR-10 Batch 5:  training loss:  0.5507\n",
      "training accuracy  0.797297\n",
      "validation loss:  0.968922\n",
      "validation accuracy 0.6634\n",
      "Epoch 11, CIFAR-10 Batch 1:  training loss:  0.657596\n",
      "training accuracy  0.766892\n",
      "validation loss:  0.983292\n",
      "validation accuracy 0.663\n",
      "Epoch 11, CIFAR-10 Batch 2:  training loss:  0.624256\n",
      "training accuracy  0.807432\n",
      "validation loss:  1.04471\n",
      "validation accuracy 0.6438\n",
      "Epoch 11, CIFAR-10 Batch 3:  training loss:  0.56968\n",
      "training accuracy  0.817568\n",
      "validation loss:  0.960549\n",
      "validation accuracy 0.6634\n",
      "Epoch 11, CIFAR-10 Batch 4:  training loss:  0.570376\n",
      "training accuracy  0.810811\n",
      "validation loss:  0.982042\n",
      "validation accuracy 0.662\n",
      "Epoch 11, CIFAR-10 Batch 5:  training loss:  0.539099\n",
      "training accuracy  0.817568\n",
      "validation loss:  0.969015\n",
      "validation accuracy 0.6652\n",
      "Epoch 12, CIFAR-10 Batch 1:  training loss:  0.632897\n",
      "training accuracy  0.763514\n",
      "validation loss:  1.00459\n",
      "validation accuracy 0.6554\n",
      "Epoch 12, CIFAR-10 Batch 2:  training loss:  0.591998\n",
      "training accuracy  0.827703\n",
      "validation loss:  1.0779\n",
      "validation accuracy 0.6368\n",
      "Epoch 12, CIFAR-10 Batch 3:  training loss:  0.543575\n",
      "training accuracy  0.804054\n",
      "validation loss:  0.986893\n",
      "validation accuracy 0.6572\n",
      "Epoch 12, CIFAR-10 Batch 4:  training loss:  0.529364\n",
      "training accuracy  0.820946\n",
      "validation loss:  0.975796\n",
      "validation accuracy 0.6638\n",
      "Epoch 12, CIFAR-10 Batch 5:  training loss:  0.501594\n",
      "training accuracy  0.844595\n",
      "validation loss:  0.969162\n",
      "validation accuracy 0.6676\n",
      "Epoch 13, CIFAR-10 Batch 1:  training loss:  0.555714\n",
      "training accuracy  0.810811\n",
      "validation loss:  0.979839\n",
      "validation accuracy 0.666\n"
     ]
    },
    {
     "name": "stdout",
     "output_type": "stream",
     "text": [
      "Epoch 13, CIFAR-10 Batch 2:  training loss:  0.550255\n",
      "training accuracy  0.851351\n",
      "validation loss:  1.06152\n",
      "validation accuracy 0.641\n",
      "Epoch 13, CIFAR-10 Batch 3:  training loss:  0.495445\n",
      "training accuracy  0.837838\n",
      "validation loss:  1.00399\n",
      "validation accuracy 0.6532\n",
      "Epoch 13, CIFAR-10 Batch 4:  training loss:  0.478344\n",
      "training accuracy  0.841216\n",
      "validation loss:  0.959602\n",
      "validation accuracy 0.6718\n",
      "Epoch 13, CIFAR-10 Batch 5:  training loss:  0.438175\n",
      "training accuracy  0.864865\n",
      "validation loss:  0.959966\n",
      "validation accuracy 0.6772\n",
      "Epoch 14, CIFAR-10 Batch 1:  training loss:  0.505869\n",
      "training accuracy  0.824324\n",
      "validation loss:  0.991848\n",
      "validation accuracy 0.665\n",
      "Epoch 14, CIFAR-10 Batch 2:  training loss:  0.496215\n",
      "training accuracy  0.868243\n",
      "validation loss:  1.05333\n",
      "validation accuracy 0.6496\n",
      "Epoch 14, CIFAR-10 Batch 3:  training loss:  0.483191\n",
      "training accuracy  0.851351\n",
      "validation loss:  1.00492\n",
      "validation accuracy 0.6556\n",
      "Epoch 14, CIFAR-10 Batch 4:  training loss:  0.419576\n",
      "training accuracy  0.868243\n",
      "validation loss:  0.9574\n",
      "validation accuracy 0.6708\n",
      "Epoch 14, CIFAR-10 Batch 5:  training loss:  0.423758\n",
      "training accuracy  0.85473\n",
      "validation loss:  0.987982\n",
      "validation accuracy 0.6736\n"
     ]
    }
   ],
   "source": [
    "\"\"\"\n",
    "DON'T MODIFY ANYTHING IN THIS CELL\n",
    "\"\"\"\n",
    "save_model_path = './image_classification'\n",
    "\n",
    "print('Training...')\n",
    "with tf.Session() as sess:\n",
    "    # Initializing the variables\n",
    "    sess.run(tf.global_variables_initializer())\n",
    "    \n",
    "    # Training cycle\n",
    "    for epoch in range(epochs):\n",
    "        # Loop over all batches\n",
    "        n_batches = 5\n",
    "        for batch_i in range(1, n_batches + 1):\n",
    "            for batch_features, batch_labels in helper.load_preprocess_training_batch(batch_i, batch_size):\n",
    "                train_neural_network(sess, optimizer, keep_probability, batch_features, batch_labels)\n",
    "            print('Epoch {:>2}, CIFAR-10 Batch {}:  '.format(epoch + 1, batch_i), end='')\n",
    "            print_stats(sess, batch_features, batch_labels, cost, accuracy)\n",
    "            \n",
    "    # Save Model\n",
    "    saver = tf.train.Saver()\n",
    "    save_path = saver.save(sess, save_model_path)"
   ]
  },
  {
   "cell_type": "markdown",
   "metadata": {},
   "source": [
    "# Checkpoint\n",
    "The model has been saved to disk.\n",
    "## Test Model\n",
    "Test your model against the test dataset.  This will be your final accuracy. You should have an accuracy greater than 50%. If you don't, keep tweaking the model architecture and parameters."
   ]
  },
  {
   "cell_type": "code",
   "execution_count": 102,
   "metadata": {},
   "outputs": [
    {
     "name": "stdout",
     "output_type": "stream",
     "text": [
      "INFO:tensorflow:Restoring parameters from ./image_classification\n",
      "Testing Accuracy: 0.6683708667755127\n",
      "\n"
     ]
    },
    {
     "data": {
      "image/png": "[encoded data removed]",
      "text/plain": [
       "<matplotlib.figure.Figure at 0x7f52a85a6ac8>"
      ]
     },
     "metadata": {
      "image/png": {
       "height": 319,
       "width": 355
      }
     },
     "output_type": "display_data"
    }
   ],
   "source": [
    "\"\"\"\n",
    "DON'T MODIFY ANYTHING IN THIS CELL\n",
    "\"\"\"\n",
    "%matplotlib inline\n",
    "%config InlineBackend.figure_format = 'retina'\n",
    "\n",
    "import tensorflow as tf\n",
    "import pickle\n",
    "import helper\n",
    "import random\n",
    "\n",
    "# Set batch size if not already set\n",
    "try:\n",
    "    if batch_size:\n",
    "        pass\n",
    "except NameError:\n",
    "    batch_size = 64\n",
    "\n",
    "save_model_path = './image_classification'\n",
    "n_samples = 4\n",
    "top_n_predictions = 3\n",
    "\n",
    "def test_model():\n",
    "    \"\"\"\n",
    "    Test the saved model against the test dataset\n",
    "    \"\"\"\n",
    "\n",
    "    test_features, test_labels = pickle.load(open('preprocess_training.p', mode='rb'))\n",
    "    loaded_graph = tf.Graph()\n",
    "\n",
    "    with tf.Session(graph=loaded_graph) as sess:\n",
    "        # Load model\n",
    "        loader = tf.train.import_meta_graph(save_model_path + '.meta')\n",
    "        loader.restore(sess, save_model_path)\n",
    "\n",
    "        # Get Tensors from loaded model\n",
    "        loaded_x = loaded_graph.get_tensor_by_name('x:0')\n",
    "        loaded_y = loaded_graph.get_tensor_by_name('y:0')\n",
    "        loaded_keep_prob = loaded_graph.get_tensor_by_name('keep_prob:0')\n",
    "        loaded_logits = loaded_graph.get_tensor_by_name('logits:0')\n",
    "        loaded_acc = loaded_graph.get_tensor_by_name('accuracy:0')\n",
    "        \n",
    "        # Get accuracy in batches for memory limitations\n",
    "        test_batch_acc_total = 0\n",
    "        test_batch_count = 0\n",
    "        \n",
    "        for train_feature_batch, train_label_batch in helper.batch_features_labels(test_features, test_labels, batch_size):\n",
    "            test_batch_acc_total += sess.run(\n",
    "                loaded_acc,\n",
    "                feed_dict={loaded_x: train_feature_batch, loaded_y: train_label_batch, loaded_keep_prob: 1.0})\n",
    "            test_batch_count += 1\n",
    "\n",
    "        print('Testing Accuracy: {}\\n'.format(test_batch_acc_total/test_batch_count))\n",
    "\n",
    "        # Print Random Samples\n",
    "        random_test_features, random_test_labels = tuple(zip(*random.sample(list(zip(test_features, test_labels)), n_samples)))\n",
    "        random_test_predictions = sess.run(\n",
    "            tf.nn.top_k(tf.nn.softmax(loaded_logits), top_n_predictions),\n",
    "            feed_dict={loaded_x: random_test_features, loaded_y: random_test_labels, loaded_keep_prob: 1.0})\n",
    "        helper.display_image_predictions(random_test_features, random_test_labels, random_test_predictions)\n",
    "\n",
    "\n",
    "test_model()"
   ]
  },
  {
   "cell_type": "markdown",
   "metadata": {},
   "source": [
    "## Why 50-70% Accuracy?\n",
    "You might be wondering why you can't get an accuracy any higher. First things first, 50% isn't bad for a simple CNN.  Pure guessing would get you 10% accuracy. However, you might notice people are getting scores [well above 70%](http://rodrigob.github.io/are_we_there_yet/build/classification_datasets_results.html#43494641522d3130).  That's because we haven't taught you all there is to know about neural networks. We still need to cover a few more techniques.\n",
    "## Submitting This Project\n",
    "When submitting this project, make sure to run all the cells before saving the notebook.  Save the notebook file as \"dlnd_image_classification.ipynb\" and save it as a HTML file under \"File\" -> \"Download as\".  Include the \"helper.py\" and \"problem_unittests.py\" files in your submission."
   ]
  },
  {
   "cell_type": "code",
   "execution_count": null,
   "metadata": {
    "collapsed": true
   },
   "outputs": [],
   "source": []
  }
 ],
 "metadata": {
  "anaconda-cloud": {},
  "kernelspec": {
   "display_name": "Python 3",
   "language": "python",
   "name": "python3"
  },
  "language_info": {
   "codemirror_mode": {
    "name": "ipython",
    "version": 3
   },
   "file_extension": ".py",
   "mimetype": "text/x-python",
   "name": "python",
   "nbconvert_exporter": "python",
   "pygments_lexer": "ipython3",
   "version": "3.5.3"
  }
 },
 "nbformat": 4,
 "nbformat_minor": 1
}
